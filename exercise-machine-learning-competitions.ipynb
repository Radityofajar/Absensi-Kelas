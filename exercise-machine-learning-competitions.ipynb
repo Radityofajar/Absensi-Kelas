{
 "cells": [
  {
   "cell_type": "markdown",
   "id": "0aeda7b0",
   "metadata": {
    "papermill": {
     "duration": 0.01782,
     "end_time": "2022-01-06T02:30:26.464048",
     "exception": false,
     "start_time": "2022-01-06T02:30:26.446228",
     "status": "completed"
    },
    "tags": []
   },
   "source": [
    "**This notebook is an exercise in the [Introduction to Machine Learning](https://www.kaggle.com/learn/intro-to-machine-learning) course.  You can reference the tutorial at [this link](https://www.kaggle.com/alexisbcook/machine-learning-competitions).**\n",
    "\n",
    "---\n"
   ]
  },
  {
   "cell_type": "markdown",
   "id": "f1c8de7d",
   "metadata": {
    "papermill": {
     "duration": 0.016168,
     "end_time": "2022-01-06T02:30:26.497424",
     "exception": false,
     "start_time": "2022-01-06T02:30:26.481256",
     "status": "completed"
    },
    "tags": []
   },
   "source": [
    "# Introduction\n",
    "\n",
    "In this exercise, you will create and submit predictions for a Kaggle competition. You can then improve your model (e.g. by adding features) to apply what you've learned and move up the leaderboard.\n",
    "\n",
    "Begin by running the code cell below to set up code checking and the filepaths for the dataset."
   ]
  },
  {
   "cell_type": "code",
   "execution_count": 1,
   "id": "2a8f1225",
   "metadata": {
    "execution": {
     "iopub.execute_input": "2022-01-06T02:30:26.534751Z",
     "iopub.status.busy": "2022-01-06T02:30:26.533573Z",
     "iopub.status.idle": "2022-01-06T02:30:26.581371Z",
     "shell.execute_reply": "2022-01-06T02:30:26.581931Z",
     "shell.execute_reply.started": "2022-01-06T02:17:04.291020Z"
    },
    "papermill": {
     "duration": 0.068203,
     "end_time": "2022-01-06T02:30:26.582225",
     "exception": false,
     "start_time": "2022-01-06T02:30:26.514022",
     "status": "completed"
    },
    "tags": []
   },
   "outputs": [],
   "source": [
    "# Set up code checking\n",
    "from learntools.core import binder\n",
    "binder.bind(globals())\n",
    "from learntools.machine_learning.ex7 import *\n",
    "\n",
    "# Set up filepaths\n",
    "import os\n",
    "if not os.path.exists(\"../input/train.csv\"):\n",
    "    os.symlink(\"../input/home-data-for-ml-course/train.csv\", \"../input/train.csv\")  \n",
    "    os.symlink(\"../input/home-data-for-ml-course/test.csv\", \"../input/test.csv\") "
   ]
  },
  {
   "cell_type": "markdown",
   "id": "11ba9a29",
   "metadata": {
    "papermill": {
     "duration": 0.016122,
     "end_time": "2022-01-06T02:30:26.615142",
     "exception": false,
     "start_time": "2022-01-06T02:30:26.599020",
     "status": "completed"
    },
    "tags": []
   },
   "source": [
    "Here's some of the code you've written so far. Start by running it again."
   ]
  },
  {
   "cell_type": "code",
   "execution_count": 2,
   "id": "d4397bdd",
   "metadata": {
    "execution": {
     "iopub.execute_input": "2022-01-06T02:30:26.657866Z",
     "iopub.status.busy": "2022-01-06T02:30:26.657156Z",
     "iopub.status.idle": "2022-01-06T02:30:35.151709Z",
     "shell.execute_reply": "2022-01-06T02:30:35.150921Z",
     "shell.execute_reply.started": "2022-01-06T02:17:04.300607Z"
    },
    "papermill": {
     "duration": 8.520095,
     "end_time": "2022-01-06T02:30:35.151900",
     "exception": false,
     "start_time": "2022-01-06T02:30:26.631805",
     "status": "completed"
    },
    "tags": []
   },
   "outputs": [
    {
     "name": "stdout",
     "output_type": "stream",
     "text": [
      "Validation MAE for Random Forest Model: 17,658\n"
     ]
    }
   ],
   "source": [
    "# Import helpful libraries\n",
    "import pandas as pd\n",
    "from sklearn.ensemble import RandomForestRegressor\n",
    "from sklearn.metrics import mean_absolute_error\n",
    "from sklearn.model_selection import train_test_split\n",
    "\n",
    "# Load the data, and separate the target\n",
    "iowa_file_path = '../input/train.csv'\n",
    "home_data = pd.read_csv(iowa_file_path)\n",
    "y = home_data.SalePrice\n",
    "\n",
    "# Create X (After completing the exercise, you can return to modify this line!)\n",
    "features = ['MSSubClass','LotArea','OverallQual','OverallCond','YearBuilt','YearRemodAdd','1stFlrSF','2ndFlrSF','LowQualFinSF'\n",
    ",'GrLivArea','FullBath','HalfBath','BedroomAbvGr','KitchenAbvGr','TotRmsAbvGrd','Fireplaces','WoodDeckSF'\n",
    ",'OpenPorchSF','EnclosedPorch','3SsnPorch','ScreenPorch','PoolArea','MiscVal','MoSold','YrSold']\n",
    "\n",
    "# Select columns corresponding to features, and preview the data\n",
    "X = home_data[features]\n",
    "X.head()\n",
    "\n",
    "# Split into validation and training data\n",
    "train_X, val_X, train_y, val_y = train_test_split(X, y, random_state=1)\n",
    "\n",
    "# Define a random forest model\n",
    "rf_model = RandomForestRegressor(n_estimators=100, criterion='mae', random_state=0)\n",
    "rf_model.fit(train_X, train_y)\n",
    "rf_val_predictions = rf_model.predict(val_X)\n",
    "rf_val_mae = mean_absolute_error(rf_val_predictions, val_y)\n",
    "\n",
    "print(\"Validation MAE for Random Forest Model: {:,.0f}\".format(rf_val_mae))"
   ]
  },
  {
   "cell_type": "code",
   "execution_count": 3,
   "id": "b3c18f7b",
   "metadata": {
    "execution": {
     "iopub.execute_input": "2022-01-06T02:30:35.191098Z",
     "iopub.status.busy": "2022-01-06T02:30:35.190088Z",
     "iopub.status.idle": "2022-01-06T02:30:35.195282Z",
     "shell.execute_reply": "2022-01-06T02:30:35.195790Z",
     "shell.execute_reply.started": "2022-01-06T02:17:11.453804Z"
    },
    "papermill": {
     "duration": 0.025964,
     "end_time": "2022-01-06T02:30:35.195963",
     "exception": false,
     "start_time": "2022-01-06T02:30:35.169999",
     "status": "completed"
    },
    "tags": []
   },
   "outputs": [],
   "source": [
    "def get_mae(max_leaf_nodes,n_estimators, train_X, val_X, train_y, val_y):\n",
    "    model = RandomForestRegressor(max_leaf_nodes=max_leaf_nodes, n_estimators=n_estimators,criterion='mae',random_state=1)\n",
    "    model.fit(train_X, train_y)\n",
    "    preds_val = model.predict(val_X)\n",
    "    mae = mean_absolute_error(val_y, preds_val)\n",
    "    return(mae)"
   ]
  },
  {
   "cell_type": "code",
   "execution_count": 4,
   "id": "ba07c337",
   "metadata": {
    "execution": {
     "iopub.execute_input": "2022-01-06T02:30:35.236501Z",
     "iopub.status.busy": "2022-01-06T02:30:35.235710Z",
     "iopub.status.idle": "2022-01-06T02:30:35.238588Z",
     "shell.execute_reply": "2022-01-06T02:30:35.238099Z",
     "shell.execute_reply.started": "2022-01-06T02:17:11.460946Z"
    },
    "papermill": {
     "duration": 0.025924,
     "end_time": "2022-01-06T02:30:35.238745",
     "exception": false,
     "start_time": "2022-01-06T02:30:35.212821",
     "status": "completed"
    },
    "tags": []
   },
   "outputs": [],
   "source": [
    "def get_mae2(n_estimators, train_X, val_X, train_y, val_y):\n",
    "    model = RandomForestRegressor(n_estimators=n_estimators,criterion='mae',random_state=1)\n",
    "    model.fit(train_X, train_y)\n",
    "    preds_val = model.predict(val_X)\n",
    "    mae = mean_absolute_error(val_y, preds_val)\n",
    "    return(mae)"
   ]
  },
  {
   "cell_type": "code",
   "execution_count": 5,
   "id": "db12f43a",
   "metadata": {
    "execution": {
     "iopub.execute_input": "2022-01-06T02:30:35.281064Z",
     "iopub.status.busy": "2022-01-06T02:30:35.280298Z",
     "iopub.status.idle": "2022-01-06T02:33:15.144819Z",
     "shell.execute_reply": "2022-01-06T02:33:15.145355Z",
     "shell.execute_reply.started": "2022-01-06T02:17:11.474853Z"
    },
    "papermill": {
     "duration": 159.889855,
     "end_time": "2022-01-06T02:33:15.145561",
     "exception": false,
     "start_time": "2022-01-06T02:30:35.255706",
     "status": "completed"
    },
    "tags": []
   },
   "outputs": [],
   "source": [
    "candidate_max_leaf_nodes = [100, 150, 200, 250, 300, 350, 400, 750]\n",
    "candidate_n_estimators = [25, 50, 75, 100, 125, 150, 200]\n",
    "best = []\n",
    "best2 = []\n",
    "best3 = []\n",
    "best4 = []\n",
    "# Write loop to find the ideal tree size from candidate_max_leaf_nodes\n",
    "for leaf_size2 in candidate_n_estimators:\n",
    "    my_mae2 = get_mae2(leaf_size2,train_X, val_X, train_y, val_y)\n",
    "    best3.append(my_mae2)\n",
    "    best4.append(leaf_size2)\n",
    "best_tree_size2 = best4[best3.index(min(best3))]\n",
    "for leaf_size in candidate_max_leaf_nodes:\n",
    "    my_mae = get_mae(leaf_size,best_tree_size2,train_X, val_X, train_y, val_y)\n",
    "    best.append(my_mae)\n",
    "    best2.append(leaf_size)\n",
    "best_tree_size = best2[best.index(min(best))]"
   ]
  },
  {
   "cell_type": "code",
   "execution_count": 6,
   "id": "def984df",
   "metadata": {
    "execution": {
     "iopub.execute_input": "2022-01-06T02:33:15.185515Z",
     "iopub.status.busy": "2022-01-06T02:33:15.183584Z",
     "iopub.status.idle": "2022-01-06T02:33:15.188947Z",
     "shell.execute_reply": "2022-01-06T02:33:15.189531Z",
     "shell.execute_reply.started": "2022-01-06T02:19:36.923500Z"
    },
    "papermill": {
     "duration": 0.026565,
     "end_time": "2022-01-06T02:33:15.189727",
     "exception": false,
     "start_time": "2022-01-06T02:33:15.163162",
     "status": "completed"
    },
    "tags": []
   },
   "outputs": [
    {
     "name": "stdout",
     "output_type": "stream",
     "text": [
      "17923.79910958904\n",
      "17888.828739726025\n",
      "750\n",
      "200\n"
     ]
    }
   ],
   "source": [
    "print(min(best))\n",
    "print(min(best3))\n",
    "print(best_tree_size)\n",
    "print(best_tree_size2)"
   ]
  },
  {
   "cell_type": "markdown",
   "id": "a7a799be",
   "metadata": {
    "papermill": {
     "duration": 0.017065,
     "end_time": "2022-01-06T02:33:15.224124",
     "exception": false,
     "start_time": "2022-01-06T02:33:15.207059",
     "status": "completed"
    },
    "tags": []
   },
   "source": [
    "# Train a model for the competition\n",
    "\n",
    "The code cell above trains a Random Forest model on **`train_X`** and **`train_y`**.  \n",
    "\n",
    "Use the code cell below to build a Random Forest model and train it on all of **`X`** and **`y`**."
   ]
  },
  {
   "cell_type": "code",
   "execution_count": 7,
   "id": "12cc0dfa",
   "metadata": {
    "execution": {
     "iopub.execute_input": "2022-01-06T02:33:15.262616Z",
     "iopub.status.busy": "2022-01-06T02:33:15.261610Z",
     "iopub.status.idle": "2022-01-06T02:33:17.446664Z",
     "shell.execute_reply": "2022-01-06T02:33:17.446050Z",
     "shell.execute_reply.started": "2022-01-06T02:19:36.930678Z"
    },
    "papermill": {
     "duration": 2.205238,
     "end_time": "2022-01-06T02:33:17.446831",
     "exception": false,
     "start_time": "2022-01-06T02:33:15.241593",
     "status": "completed"
    },
    "tags": []
   },
   "outputs": [
    {
     "data": {
      "text/plain": [
       "RandomForestRegressor(max_leaf_nodes=400, n_estimators=200, random_state=1)"
      ]
     },
     "execution_count": 7,
     "metadata": {},
     "output_type": "execute_result"
    }
   ],
   "source": [
    "# To improve accuracy, create a new Random Forest model which you will train on all training data\n",
    "rf_model_on_full_data = RandomForestRegressor(max_leaf_nodes=400,n_estimators=200,random_state=1)\n",
    "\n",
    "# fit rf_model_on_full_data on all data from the training data\n",
    "rf_model_on_full_data.fit(X,y)"
   ]
  },
  {
   "cell_type": "markdown",
   "id": "2e19bdea",
   "metadata": {
    "papermill": {
     "duration": 0.019428,
     "end_time": "2022-01-06T02:33:17.484540",
     "exception": false,
     "start_time": "2022-01-06T02:33:17.465112",
     "status": "completed"
    },
    "tags": []
   },
   "source": [
    "Now, read the file of \"test\" data, and apply your model to make predictions."
   ]
  },
  {
   "cell_type": "code",
   "execution_count": 8,
   "id": "ee3a3bf8",
   "metadata": {
    "execution": {
     "iopub.execute_input": "2022-01-06T02:33:17.525901Z",
     "iopub.status.busy": "2022-01-06T02:33:17.525217Z",
     "iopub.status.idle": "2022-01-06T02:33:17.592129Z",
     "shell.execute_reply": "2022-01-06T02:33:17.591532Z",
     "shell.execute_reply.started": "2022-01-06T02:19:38.090322Z"
    },
    "papermill": {
     "duration": 0.089613,
     "end_time": "2022-01-06T02:33:17.592294",
     "exception": false,
     "start_time": "2022-01-06T02:33:17.502681",
     "status": "completed"
    },
    "tags": []
   },
   "outputs": [
    {
     "data": {
      "text/html": [
       "<div>\n",
       "<style scoped>\n",
       "    .dataframe tbody tr th:only-of-type {\n",
       "        vertical-align: middle;\n",
       "    }\n",
       "\n",
       "    .dataframe tbody tr th {\n",
       "        vertical-align: top;\n",
       "    }\n",
       "\n",
       "    .dataframe thead th {\n",
       "        text-align: right;\n",
       "    }\n",
       "</style>\n",
       "<table border=\"1\" class=\"dataframe\">\n",
       "  <thead>\n",
       "    <tr style=\"text-align: right;\">\n",
       "      <th></th>\n",
       "      <th>Id</th>\n",
       "      <th>MSSubClass</th>\n",
       "      <th>MSZoning</th>\n",
       "      <th>LotFrontage</th>\n",
       "      <th>LotArea</th>\n",
       "      <th>Street</th>\n",
       "      <th>Alley</th>\n",
       "      <th>LotShape</th>\n",
       "      <th>LandContour</th>\n",
       "      <th>Utilities</th>\n",
       "      <th>...</th>\n",
       "      <th>ScreenPorch</th>\n",
       "      <th>PoolArea</th>\n",
       "      <th>PoolQC</th>\n",
       "      <th>Fence</th>\n",
       "      <th>MiscFeature</th>\n",
       "      <th>MiscVal</th>\n",
       "      <th>MoSold</th>\n",
       "      <th>YrSold</th>\n",
       "      <th>SaleType</th>\n",
       "      <th>SaleCondition</th>\n",
       "    </tr>\n",
       "  </thead>\n",
       "  <tbody>\n",
       "    <tr>\n",
       "      <th>0</th>\n",
       "      <td>1461</td>\n",
       "      <td>20</td>\n",
       "      <td>RH</td>\n",
       "      <td>80.0</td>\n",
       "      <td>11622</td>\n",
       "      <td>Pave</td>\n",
       "      <td>NaN</td>\n",
       "      <td>Reg</td>\n",
       "      <td>Lvl</td>\n",
       "      <td>AllPub</td>\n",
       "      <td>...</td>\n",
       "      <td>120</td>\n",
       "      <td>0</td>\n",
       "      <td>NaN</td>\n",
       "      <td>MnPrv</td>\n",
       "      <td>NaN</td>\n",
       "      <td>0</td>\n",
       "      <td>6</td>\n",
       "      <td>2010</td>\n",
       "      <td>WD</td>\n",
       "      <td>Normal</td>\n",
       "    </tr>\n",
       "    <tr>\n",
       "      <th>1</th>\n",
       "      <td>1462</td>\n",
       "      <td>20</td>\n",
       "      <td>RL</td>\n",
       "      <td>81.0</td>\n",
       "      <td>14267</td>\n",
       "      <td>Pave</td>\n",
       "      <td>NaN</td>\n",
       "      <td>IR1</td>\n",
       "      <td>Lvl</td>\n",
       "      <td>AllPub</td>\n",
       "      <td>...</td>\n",
       "      <td>0</td>\n",
       "      <td>0</td>\n",
       "      <td>NaN</td>\n",
       "      <td>NaN</td>\n",
       "      <td>Gar2</td>\n",
       "      <td>12500</td>\n",
       "      <td>6</td>\n",
       "      <td>2010</td>\n",
       "      <td>WD</td>\n",
       "      <td>Normal</td>\n",
       "    </tr>\n",
       "    <tr>\n",
       "      <th>2</th>\n",
       "      <td>1463</td>\n",
       "      <td>60</td>\n",
       "      <td>RL</td>\n",
       "      <td>74.0</td>\n",
       "      <td>13830</td>\n",
       "      <td>Pave</td>\n",
       "      <td>NaN</td>\n",
       "      <td>IR1</td>\n",
       "      <td>Lvl</td>\n",
       "      <td>AllPub</td>\n",
       "      <td>...</td>\n",
       "      <td>0</td>\n",
       "      <td>0</td>\n",
       "      <td>NaN</td>\n",
       "      <td>MnPrv</td>\n",
       "      <td>NaN</td>\n",
       "      <td>0</td>\n",
       "      <td>3</td>\n",
       "      <td>2010</td>\n",
       "      <td>WD</td>\n",
       "      <td>Normal</td>\n",
       "    </tr>\n",
       "    <tr>\n",
       "      <th>3</th>\n",
       "      <td>1464</td>\n",
       "      <td>60</td>\n",
       "      <td>RL</td>\n",
       "      <td>78.0</td>\n",
       "      <td>9978</td>\n",
       "      <td>Pave</td>\n",
       "      <td>NaN</td>\n",
       "      <td>IR1</td>\n",
       "      <td>Lvl</td>\n",
       "      <td>AllPub</td>\n",
       "      <td>...</td>\n",
       "      <td>0</td>\n",
       "      <td>0</td>\n",
       "      <td>NaN</td>\n",
       "      <td>NaN</td>\n",
       "      <td>NaN</td>\n",
       "      <td>0</td>\n",
       "      <td>6</td>\n",
       "      <td>2010</td>\n",
       "      <td>WD</td>\n",
       "      <td>Normal</td>\n",
       "    </tr>\n",
       "    <tr>\n",
       "      <th>4</th>\n",
       "      <td>1465</td>\n",
       "      <td>120</td>\n",
       "      <td>RL</td>\n",
       "      <td>43.0</td>\n",
       "      <td>5005</td>\n",
       "      <td>Pave</td>\n",
       "      <td>NaN</td>\n",
       "      <td>IR1</td>\n",
       "      <td>HLS</td>\n",
       "      <td>AllPub</td>\n",
       "      <td>...</td>\n",
       "      <td>144</td>\n",
       "      <td>0</td>\n",
       "      <td>NaN</td>\n",
       "      <td>NaN</td>\n",
       "      <td>NaN</td>\n",
       "      <td>0</td>\n",
       "      <td>1</td>\n",
       "      <td>2010</td>\n",
       "      <td>WD</td>\n",
       "      <td>Normal</td>\n",
       "    </tr>\n",
       "  </tbody>\n",
       "</table>\n",
       "<p>5 rows × 80 columns</p>\n",
       "</div>"
      ],
      "text/plain": [
       "     Id  MSSubClass MSZoning  LotFrontage  LotArea Street Alley LotShape  \\\n",
       "0  1461          20       RH         80.0    11622   Pave   NaN      Reg   \n",
       "1  1462          20       RL         81.0    14267   Pave   NaN      IR1   \n",
       "2  1463          60       RL         74.0    13830   Pave   NaN      IR1   \n",
       "3  1464          60       RL         78.0     9978   Pave   NaN      IR1   \n",
       "4  1465         120       RL         43.0     5005   Pave   NaN      IR1   \n",
       "\n",
       "  LandContour Utilities  ... ScreenPorch PoolArea PoolQC  Fence MiscFeature  \\\n",
       "0         Lvl    AllPub  ...         120        0    NaN  MnPrv         NaN   \n",
       "1         Lvl    AllPub  ...           0        0    NaN    NaN        Gar2   \n",
       "2         Lvl    AllPub  ...           0        0    NaN  MnPrv         NaN   \n",
       "3         Lvl    AllPub  ...           0        0    NaN    NaN         NaN   \n",
       "4         HLS    AllPub  ...         144        0    NaN    NaN         NaN   \n",
       "\n",
       "  MiscVal MoSold  YrSold  SaleType  SaleCondition  \n",
       "0       0      6    2010        WD         Normal  \n",
       "1   12500      6    2010        WD         Normal  \n",
       "2       0      3    2010        WD         Normal  \n",
       "3       0      6    2010        WD         Normal  \n",
       "4       0      1    2010        WD         Normal  \n",
       "\n",
       "[5 rows x 80 columns]"
      ]
     },
     "execution_count": 8,
     "metadata": {},
     "output_type": "execute_result"
    }
   ],
   "source": [
    "# path to file you will use for predictions\n",
    "test_data_path = '../input/test.csv'\n",
    "\n",
    "# read test data file using pandas\n",
    "test_data = pd.read_csv(test_data_path)\n",
    "\n",
    "test_data.head()\n"
   ]
  },
  {
   "cell_type": "code",
   "execution_count": 9,
   "id": "3a825bbe",
   "metadata": {
    "execution": {
     "iopub.execute_input": "2022-01-06T02:33:17.654492Z",
     "iopub.status.busy": "2022-01-06T02:33:17.644165Z",
     "iopub.status.idle": "2022-01-06T02:33:17.657846Z",
     "shell.execute_reply": "2022-01-06T02:33:17.657213Z",
     "shell.execute_reply.started": "2022-01-06T02:19:38.153751Z"
    },
    "papermill": {
     "duration": 0.046958,
     "end_time": "2022-01-06T02:33:17.657990",
     "exception": false,
     "start_time": "2022-01-06T02:33:17.611032",
     "status": "completed"
    },
    "tags": []
   },
   "outputs": [
    {
     "data": {
      "text/html": [
       "<div>\n",
       "<style scoped>\n",
       "    .dataframe tbody tr th:only-of-type {\n",
       "        vertical-align: middle;\n",
       "    }\n",
       "\n",
       "    .dataframe tbody tr th {\n",
       "        vertical-align: top;\n",
       "    }\n",
       "\n",
       "    .dataframe thead th {\n",
       "        text-align: right;\n",
       "    }\n",
       "</style>\n",
       "<table border=\"1\" class=\"dataframe\">\n",
       "  <thead>\n",
       "    <tr style=\"text-align: right;\">\n",
       "      <th></th>\n",
       "      <th>Id</th>\n",
       "      <th>MSSubClass</th>\n",
       "      <th>MSZoning</th>\n",
       "      <th>LotFrontage</th>\n",
       "      <th>LotArea</th>\n",
       "      <th>Street</th>\n",
       "      <th>Alley</th>\n",
       "      <th>LotShape</th>\n",
       "      <th>LandContour</th>\n",
       "      <th>Utilities</th>\n",
       "      <th>...</th>\n",
       "      <th>ScreenPorch</th>\n",
       "      <th>PoolArea</th>\n",
       "      <th>PoolQC</th>\n",
       "      <th>Fence</th>\n",
       "      <th>MiscFeature</th>\n",
       "      <th>MiscVal</th>\n",
       "      <th>MoSold</th>\n",
       "      <th>YrSold</th>\n",
       "      <th>SaleType</th>\n",
       "      <th>SaleCondition</th>\n",
       "    </tr>\n",
       "  </thead>\n",
       "  <tbody>\n",
       "    <tr>\n",
       "      <th>1454</th>\n",
       "      <td>2915</td>\n",
       "      <td>160</td>\n",
       "      <td>RM</td>\n",
       "      <td>21.0</td>\n",
       "      <td>1936</td>\n",
       "      <td>Pave</td>\n",
       "      <td>NaN</td>\n",
       "      <td>Reg</td>\n",
       "      <td>Lvl</td>\n",
       "      <td>AllPub</td>\n",
       "      <td>...</td>\n",
       "      <td>0</td>\n",
       "      <td>0</td>\n",
       "      <td>NaN</td>\n",
       "      <td>NaN</td>\n",
       "      <td>NaN</td>\n",
       "      <td>0</td>\n",
       "      <td>6</td>\n",
       "      <td>2006</td>\n",
       "      <td>WD</td>\n",
       "      <td>Normal</td>\n",
       "    </tr>\n",
       "    <tr>\n",
       "      <th>1455</th>\n",
       "      <td>2916</td>\n",
       "      <td>160</td>\n",
       "      <td>RM</td>\n",
       "      <td>21.0</td>\n",
       "      <td>1894</td>\n",
       "      <td>Pave</td>\n",
       "      <td>NaN</td>\n",
       "      <td>Reg</td>\n",
       "      <td>Lvl</td>\n",
       "      <td>AllPub</td>\n",
       "      <td>...</td>\n",
       "      <td>0</td>\n",
       "      <td>0</td>\n",
       "      <td>NaN</td>\n",
       "      <td>NaN</td>\n",
       "      <td>NaN</td>\n",
       "      <td>0</td>\n",
       "      <td>4</td>\n",
       "      <td>2006</td>\n",
       "      <td>WD</td>\n",
       "      <td>Abnorml</td>\n",
       "    </tr>\n",
       "    <tr>\n",
       "      <th>1456</th>\n",
       "      <td>2917</td>\n",
       "      <td>20</td>\n",
       "      <td>RL</td>\n",
       "      <td>160.0</td>\n",
       "      <td>20000</td>\n",
       "      <td>Pave</td>\n",
       "      <td>NaN</td>\n",
       "      <td>Reg</td>\n",
       "      <td>Lvl</td>\n",
       "      <td>AllPub</td>\n",
       "      <td>...</td>\n",
       "      <td>0</td>\n",
       "      <td>0</td>\n",
       "      <td>NaN</td>\n",
       "      <td>NaN</td>\n",
       "      <td>NaN</td>\n",
       "      <td>0</td>\n",
       "      <td>9</td>\n",
       "      <td>2006</td>\n",
       "      <td>WD</td>\n",
       "      <td>Abnorml</td>\n",
       "    </tr>\n",
       "    <tr>\n",
       "      <th>1457</th>\n",
       "      <td>2918</td>\n",
       "      <td>85</td>\n",
       "      <td>RL</td>\n",
       "      <td>62.0</td>\n",
       "      <td>10441</td>\n",
       "      <td>Pave</td>\n",
       "      <td>NaN</td>\n",
       "      <td>Reg</td>\n",
       "      <td>Lvl</td>\n",
       "      <td>AllPub</td>\n",
       "      <td>...</td>\n",
       "      <td>0</td>\n",
       "      <td>0</td>\n",
       "      <td>NaN</td>\n",
       "      <td>MnPrv</td>\n",
       "      <td>Shed</td>\n",
       "      <td>700</td>\n",
       "      <td>7</td>\n",
       "      <td>2006</td>\n",
       "      <td>WD</td>\n",
       "      <td>Normal</td>\n",
       "    </tr>\n",
       "    <tr>\n",
       "      <th>1458</th>\n",
       "      <td>2919</td>\n",
       "      <td>60</td>\n",
       "      <td>RL</td>\n",
       "      <td>74.0</td>\n",
       "      <td>9627</td>\n",
       "      <td>Pave</td>\n",
       "      <td>NaN</td>\n",
       "      <td>Reg</td>\n",
       "      <td>Lvl</td>\n",
       "      <td>AllPub</td>\n",
       "      <td>...</td>\n",
       "      <td>0</td>\n",
       "      <td>0</td>\n",
       "      <td>NaN</td>\n",
       "      <td>NaN</td>\n",
       "      <td>NaN</td>\n",
       "      <td>0</td>\n",
       "      <td>11</td>\n",
       "      <td>2006</td>\n",
       "      <td>WD</td>\n",
       "      <td>Normal</td>\n",
       "    </tr>\n",
       "  </tbody>\n",
       "</table>\n",
       "<p>5 rows × 80 columns</p>\n",
       "</div>"
      ],
      "text/plain": [
       "        Id  MSSubClass MSZoning  LotFrontage  LotArea Street Alley LotShape  \\\n",
       "1454  2915         160       RM         21.0     1936   Pave   NaN      Reg   \n",
       "1455  2916         160       RM         21.0     1894   Pave   NaN      Reg   \n",
       "1456  2917          20       RL        160.0    20000   Pave   NaN      Reg   \n",
       "1457  2918          85       RL         62.0    10441   Pave   NaN      Reg   \n",
       "1458  2919          60       RL         74.0     9627   Pave   NaN      Reg   \n",
       "\n",
       "     LandContour Utilities  ... ScreenPorch PoolArea PoolQC  Fence  \\\n",
       "1454         Lvl    AllPub  ...           0        0    NaN    NaN   \n",
       "1455         Lvl    AllPub  ...           0        0    NaN    NaN   \n",
       "1456         Lvl    AllPub  ...           0        0    NaN    NaN   \n",
       "1457         Lvl    AllPub  ...           0        0    NaN  MnPrv   \n",
       "1458         Lvl    AllPub  ...           0        0    NaN    NaN   \n",
       "\n",
       "     MiscFeature MiscVal MoSold  YrSold  SaleType  SaleCondition  \n",
       "1454         NaN       0      6    2006        WD         Normal  \n",
       "1455         NaN       0      4    2006        WD        Abnorml  \n",
       "1456         NaN       0      9    2006        WD        Abnorml  \n",
       "1457        Shed     700      7    2006        WD         Normal  \n",
       "1458         NaN       0     11    2006        WD         Normal  \n",
       "\n",
       "[5 rows x 80 columns]"
      ]
     },
     "execution_count": 9,
     "metadata": {},
     "output_type": "execute_result"
    }
   ],
   "source": [
    "test_data.tail()"
   ]
  },
  {
   "cell_type": "code",
   "execution_count": 10,
   "id": "288f7cff",
   "metadata": {
    "execution": {
     "iopub.execute_input": "2022-01-06T02:33:17.699747Z",
     "iopub.status.busy": "2022-01-06T02:33:17.698975Z",
     "iopub.status.idle": "2022-01-06T02:33:17.704808Z",
     "shell.execute_reply": "2022-01-06T02:33:17.705381Z",
     "shell.execute_reply.started": "2022-01-06T02:19:38.181709Z"
    },
    "papermill": {
     "duration": 0.028233,
     "end_time": "2022-01-06T02:33:17.705546",
     "exception": false,
     "start_time": "2022-01-06T02:33:17.677313",
     "status": "completed"
    },
    "tags": []
   },
   "outputs": [
    {
     "data": {
      "text/plain": [
       "Index(['Id', 'MSSubClass', 'MSZoning', 'LotFrontage', 'LotArea', 'Street',\n",
       "       'Alley', 'LotShape', 'LandContour', 'Utilities', 'LotConfig',\n",
       "       'LandSlope', 'Neighborhood', 'Condition1', 'Condition2', 'BldgType',\n",
       "       'HouseStyle', 'OverallQual', 'OverallCond', 'YearBuilt', 'YearRemodAdd',\n",
       "       'RoofStyle', 'RoofMatl', 'Exterior1st', 'Exterior2nd', 'MasVnrType',\n",
       "       'MasVnrArea', 'ExterQual', 'ExterCond', 'Foundation', 'BsmtQual',\n",
       "       'BsmtCond', 'BsmtExposure', 'BsmtFinType1', 'BsmtFinSF1',\n",
       "       'BsmtFinType2', 'BsmtFinSF2', 'BsmtUnfSF', 'TotalBsmtSF', 'Heating',\n",
       "       'HeatingQC', 'CentralAir', 'Electrical', '1stFlrSF', '2ndFlrSF',\n",
       "       'LowQualFinSF', 'GrLivArea', 'BsmtFullBath', 'BsmtHalfBath', 'FullBath',\n",
       "       'HalfBath', 'BedroomAbvGr', 'KitchenAbvGr', 'KitchenQual',\n",
       "       'TotRmsAbvGrd', 'Functional', 'Fireplaces', 'FireplaceQu', 'GarageType',\n",
       "       'GarageYrBlt', 'GarageFinish', 'GarageCars', 'GarageArea', 'GarageQual',\n",
       "       'GarageCond', 'PavedDrive', 'WoodDeckSF', 'OpenPorchSF',\n",
       "       'EnclosedPorch', '3SsnPorch', 'ScreenPorch', 'PoolArea', 'PoolQC',\n",
       "       'Fence', 'MiscFeature', 'MiscVal', 'MoSold', 'YrSold', 'SaleType',\n",
       "       'SaleCondition'],\n",
       "      dtype='object')"
      ]
     },
     "execution_count": 10,
     "metadata": {},
     "output_type": "execute_result"
    }
   ],
   "source": [
    "test_data.columns"
   ]
  },
  {
   "cell_type": "code",
   "execution_count": 11,
   "id": "e1294d6d",
   "metadata": {
    "execution": {
     "iopub.execute_input": "2022-01-06T02:33:17.747464Z",
     "iopub.status.busy": "2022-01-06T02:33:17.746842Z",
     "iopub.status.idle": "2022-01-06T02:33:17.831508Z",
     "shell.execute_reply": "2022-01-06T02:33:17.832060Z",
     "shell.execute_reply.started": "2022-01-06T02:19:38.195079Z"
    },
    "papermill": {
     "duration": 0.107365,
     "end_time": "2022-01-06T02:33:17.832264",
     "exception": false,
     "start_time": "2022-01-06T02:33:17.724899",
     "status": "completed"
    },
    "tags": []
   },
   "outputs": [],
   "source": [
    "# path to file you will use for predictions\n",
    "test_data_path = '../input/test.csv'\n",
    "\n",
    "# read test data file using pandas\n",
    "test_data = pd.read_csv(test_data_path)\n",
    "# create test_X which comes from test_data but includes only the columns you used for prediction.\n",
    "# The list of columns is stored in a variable called features\n",
    "test_features = ['MSSubClass','LotArea','OverallQual','OverallCond','YearBuilt','YearRemodAdd','1stFlrSF','2ndFlrSF','LowQualFinSF'\n",
    ",'GrLivArea','FullBath','HalfBath','BedroomAbvGr','KitchenAbvGr','TotRmsAbvGrd','Fireplaces','WoodDeckSF'\n",
    ",'OpenPorchSF','EnclosedPorch','3SsnPorch','ScreenPorch','PoolArea','MiscVal','MoSold','YrSold']\n",
    "test_X = test_data[test_features]\n",
    "\n",
    "# make predictions which we will submit. \n",
    "test_preds = rf_model_on_full_data.predict(test_X)"
   ]
  },
  {
   "cell_type": "code",
   "execution_count": 12,
   "id": "77a9adbd",
   "metadata": {
    "execution": {
     "iopub.execute_input": "2022-01-06T02:33:17.874747Z",
     "iopub.status.busy": "2022-01-06T02:33:17.874122Z",
     "iopub.status.idle": "2022-01-06T02:33:17.879427Z",
     "shell.execute_reply": "2022-01-06T02:33:17.878891Z",
     "shell.execute_reply.started": "2022-01-06T02:19:38.262279Z"
    },
    "papermill": {
     "duration": 0.027639,
     "end_time": "2022-01-06T02:33:17.879566",
     "exception": false,
     "start_time": "2022-01-06T02:33:17.851927",
     "status": "completed"
    },
    "tags": []
   },
   "outputs": [
    {
     "name": "stdout",
     "output_type": "stream",
     "text": [
      "[126459.01524768 156335.26817684 171964.15774208 ... 153051.8814661\n",
      " 127416.8614881  229020.96340229]\n"
     ]
    }
   ],
   "source": [
    "print(test_preds)"
   ]
  },
  {
   "cell_type": "markdown",
   "id": "8cd391d8",
   "metadata": {
    "papermill": {
     "duration": 0.0196,
     "end_time": "2022-01-06T02:33:17.918961",
     "exception": false,
     "start_time": "2022-01-06T02:33:17.899361",
     "status": "completed"
    },
    "tags": []
   },
   "source": [
    "Before submitting, run a check to make sure your `test_preds` have the right format."
   ]
  },
  {
   "cell_type": "code",
   "execution_count": 13,
   "id": "30b14829",
   "metadata": {
    "execution": {
     "iopub.execute_input": "2022-01-06T02:33:17.962091Z",
     "iopub.status.busy": "2022-01-06T02:33:17.961448Z",
     "iopub.status.idle": "2022-01-06T02:33:17.967445Z",
     "shell.execute_reply": "2022-01-06T02:33:17.968085Z",
     "shell.execute_reply.started": "2022-01-06T02:19:38.267992Z"
    },
    "papermill": {
     "duration": 0.02921,
     "end_time": "2022-01-06T02:33:17.968258",
     "exception": false,
     "start_time": "2022-01-06T02:33:17.939048",
     "status": "completed"
    },
    "tags": []
   },
   "outputs": [
    {
     "data": {
      "application/javascript": [
       "parent.postMessage({\"jupyterEvent\": \"custom.exercise_interaction\", \"data\": {\"outcomeType\": 1, \"valueTowardsCompletion\": 1.0, \"interactionType\": 1, \"questionType\": 2, \"questionId\": \"1_CheckSubmittablePreds\", \"learnToolsVersion\": \"0.3.4\", \"failureMessage\": \"\", \"exceptionClass\": \"\", \"trace\": \"\"}}, \"*\")"
      ],
      "text/plain": [
       "<IPython.core.display.Javascript object>"
      ]
     },
     "metadata": {},
     "output_type": "display_data"
    },
    {
     "data": {
      "text/markdown": [
       "<span style=\"color:#33cc33\">Correct</span>"
      ],
      "text/plain": [
       "Correct"
      ]
     },
     "metadata": {},
     "output_type": "display_data"
    }
   ],
   "source": [
    "# Check your answer (To get credit for completing the exercise, you must get a \"Correct\" result!)\n",
    "step_1.check()\n",
    "#step_1.solution()"
   ]
  },
  {
   "cell_type": "markdown",
   "id": "661dcf62",
   "metadata": {
    "papermill": {
     "duration": 0.02031,
     "end_time": "2022-01-06T02:33:18.009191",
     "exception": false,
     "start_time": "2022-01-06T02:33:17.988881",
     "status": "completed"
    },
    "tags": []
   },
   "source": [
    "# Generate a submission\n",
    "\n",
    "Run the code cell below to generate a CSV file with your predictions that you can use to submit to the competition."
   ]
  },
  {
   "cell_type": "code",
   "execution_count": 14,
   "id": "ae2adaf1",
   "metadata": {
    "execution": {
     "iopub.execute_input": "2022-01-06T02:33:18.053435Z",
     "iopub.status.busy": "2022-01-06T02:33:18.052823Z",
     "iopub.status.idle": "2022-01-06T02:33:18.065880Z",
     "shell.execute_reply": "2022-01-06T02:33:18.066412Z",
     "shell.execute_reply.started": "2022-01-06T02:19:38.283392Z"
    },
    "papermill": {
     "duration": 0.036803,
     "end_time": "2022-01-06T02:33:18.066592",
     "exception": false,
     "start_time": "2022-01-06T02:33:18.029789",
     "status": "completed"
    },
    "tags": []
   },
   "outputs": [],
   "source": [
    "# Run the code to save predictions in the format used for competition scoring\n",
    "\n",
    "output = pd.DataFrame({'Id': test_data.Id,\n",
    "                       'SalePrice': test_preds})\n",
    "output.to_csv('submission.csv', index=False)"
   ]
  },
  {
   "cell_type": "markdown",
   "id": "40b9aef8",
   "metadata": {
    "papermill": {
     "duration": 0.020602,
     "end_time": "2022-01-06T02:33:18.108733",
     "exception": false,
     "start_time": "2022-01-06T02:33:18.088131",
     "status": "completed"
    },
    "tags": []
   },
   "source": [
    "# Submit to the competition\n",
    "\n",
    "To test your results, you'll need to join the competition (if you haven't already).  So open a new window by clicking on **[this link](https://www.kaggle.com/c/home-data-for-ml-course)**.  Then click on the **Join Competition** button.\n",
    "\n",
    "![join competition image](https://i.imgur.com/axBzctl.png)\n",
    "\n",
    "Next, follow the instructions below:\n",
    "1. Begin by clicking on the **Save Version** button in the top right corner of the window.  This will generate a pop-up window.  \n",
    "2. Ensure that the **Save and Run All** option is selected, and then click on the **Save** button.\n",
    "3. This generates a window in the bottom left corner of the notebook.  After it has finished running, click on the number to the right of the **Save Version** button.  This pulls up a list of versions on the right of the screen.  Click on the ellipsis **(...)** to the right of the most recent version, and select **Open in Viewer**.  This brings you into view mode of the same page. You will need to scroll down to get back to these instructions.\n",
    "4. 'MSSubClass'\n",
    "'LotArea'\n",
    "'OverallQual'\n",
    "'OverallCond'\n",
    "'YearBuilt'\n",
    "'YearRemodAdd'\n",
    "'1stFlrSF'\n",
    "'2ndFlrSF'\n",
    "'LowQualFinSF'\n",
    "'GrLivArea'\n",
    "'FullBath'\n",
    "'HalfBath'\n",
    "'BedroomAbvGr'\n",
    "'KitchenAbvGr'\n",
    "'TotRmsAbvGrd'\n",
    "'Fireplaces'\n",
    "'WoodDeckSF'\n",
    "'OpenPorchSF'\n",
    "'EnclosedPorch'\n",
    "'3SsnPorch'\n",
    "'ScreenPorch'\n",
    "'PoolArea'\n",
    "'MiscVal'\n",
    "'MoSold'\n",
    "'YrSold'ults to the leaderboard.\n",
    "\n",
    "You have now successfully submitted to the competition!\n",
    "\n",
    "If you want to keep working to improve your performance, select the **Edit** button in the top right of the screen. Then you can change your code and repeat the process. There's a lot of room to improve, and you will climb up the leaderboard as you work.\n",
    "\n",
    "\n",
    "# Continue Your Progress\n",
    "There are many ways to improve your model, and **experimenting is a great way to learn at this point.**\n",
    "\n",
    "The best way to improve your model is to add features.  To add more features to the data, revisit the first code cell, and change this line of code to include more column names:\n",
    "```python\n",
    "features = ['LotArea', 'YearBuilt', '1stFlrSF', '2ndFlrSF', 'FullBath', 'BedroomAbvGr', 'TotRmsAbvGrd']\n",
    "```\n",
    "\n",
    "Some features will cause errors because of issues like missing values or non-numeric data types.  Here is a complete list of potential columns that you might like to use, and that won't throw errors:\n",
    "- 'MSSubClass'\n",
    "- 'LotArea'\n",
    "- 'OverallQual' \n",
    "- 'OverallCond' \n",
    "- 'YearBuilt'\n",
    "- 'YearRemodAdd' \n",
    "- '1stFlrSF'\n",
    "- '2ndFlrSF' \n",
    "- 'LowQualFinSF' \n",
    "- 'GrLivArea'\n",
    "- 'FullBath'\n",
    "- 'HalfBath'\n",
    "- 'BedroomAbvGr' \n",
    "- 'KitchenAbvGr' \n",
    "- 'TotRmsAbvGrd' \n",
    "- 'Fireplaces' \n",
    "- 'WoodDeckSF' \n",
    "- 'OpenPorchSF'\n",
    "- 'EnclosedPorch' \n",
    "- '3SsnPorch' \n",
    "- 'ScreenPorch' \n",
    "- 'PoolArea' \n",
    "- 'MiscVal' \n",
    "- 'MoSold' \n",
    "- 'YrSold'\n",
    "\n",
    "Look at the list of columns and think about what might affect home prices.  To learn more about each of these features, take a look at the data description on the **[competition page](https://www.kaggle.com/c/home-data-for-ml-course/data)**.\n",
    "\n",
    "After updating the code cell above that defines the features, re-run all of the code cells to evaluate the model and generate a new submission file.  \n",
    "\n",
    "\n",
    "# What's next?\n",
    "\n",
    "As mentioned above, some of the features will throw an error if you try to use them to train your model.  The **[Intermediate Machine Learning](https://www.kaggle.com/learn/intermediate-machine-learning)** course will teach you how to handle these types of features. You will also learn to use **xgboost**, a technique giving even better accuracy than Random Forest.\n",
    "\n",
    "The **[Pandas](https://kaggle.com/Learn/Pandas)** course will give you the data manipulation skills to quickly go from conceptual idea to implementation in your data science projects. \n",
    "\n",
    "You are also ready for the **[Deep Learning](https://kaggle.com/Learn/intro-to-Deep-Learning)** course, where you will build models with better-than-human level performance at computer vision tasks."
   ]
  },
  {
   "cell_type": "markdown",
   "id": "8c094ec6",
   "metadata": {
    "papermill": {
     "duration": 0.020718,
     "end_time": "2022-01-06T02:33:18.150119",
     "exception": false,
     "start_time": "2022-01-06T02:33:18.129401",
     "status": "completed"
    },
    "tags": []
   },
   "source": [
    "---\n",
    "\n",
    "\n",
    "\n",
    "\n",
    "*Have questions or comments? Visit the [course discussion forum](https://www.kaggle.com/learn/intro-to-machine-learning/discussion) to chat with other learners.*"
   ]
  }
 ],
 "metadata": {
  "kernelspec": {
   "display_name": "Python 3",
   "language": "python",
   "name": "python3"
  },
  "language_info": {
   "codemirror_mode": {
    "name": "ipython",
    "version": 3
   },
   "file_extension": ".py",
   "mimetype": "text/x-python",
   "name": "python",
   "nbconvert_exporter": "python",
   "pygments_lexer": "ipython3",
   "version": "3.7.12"
  },
  "papermill": {
   "default_parameters": {},
   "duration": 182.450126,
   "end_time": "2022-01-06T02:33:18.881671",
   "environment_variables": {},
   "exception": null,
   "input_path": "__notebook__.ipynb",
   "output_path": "__notebook__.ipynb",
   "parameters": {},
   "start_time": "2022-01-06T02:30:16.431545",
   "version": "2.3.3"
  }
 },
 "nbformat": 4,
 "nbformat_minor": 5
}
